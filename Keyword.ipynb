{
  "nbformat": 4,
  "nbformat_minor": 0,
  "metadata": {
    "colab": {
      "provenance": [],
      "mount_file_id": "1p-th-W74gvGojtl5rcfsuKcUEKDXbMBz",
      "authorship_tag": "ABX9TyPZE9TndzdXHMGfOXBTVc72",
      "include_colab_link": true
    },
    "kernelspec": {
      "name": "python3",
      "display_name": "Python 3"
    },
    "language_info": {
      "name": "python"
    }
  },
  "cells": [
    {
      "cell_type": "markdown",
      "metadata": {
        "id": "view-in-github",
        "colab_type": "text"
      },
      "source": [
        "<a href=\"https://colab.research.google.com/github/rendyleo/PPW/blob/main/Keyword.ipynb\" target=\"_parent\"><img src=\"https://colab.research.google.com/assets/colab-badge.svg\" alt=\"Open In Colab\"/></a>"
      ]
    },
    {
      "cell_type": "markdown",
      "source": [
        "**Keyword**\n",
        "\n",
        "adalah elemen yang dianggap penting dan berperan dalam memahami konteks dan informasi utama dari data yang dianalisis, terutama dalam tugas-tugas yang berhubungan dengan text mining atau information retrieval.\n",
        "\n",
        "\n",
        "**Dalam konteks penambangan data**\n",
        "\n",
        "(data mining), istilah keyword biasanya merujuk pada kata atau frase yang signifikan yang digunakan untuk menggambarkan topik atau isi suatu dokumen atau data teks. Keyword adalah elemen yang dianggap penting dan berperan dalam memahami konteks dan informasi utama dari data yang dianalisis, terutama dalam tugas-tugas yang berhubungan dengan text mining atau information retrieval.\n",
        "\n",
        "**Fungsi dan Peran Keyword dalam Penambangan Data**:\n",
        "\n",
        "\n",
        "**Ekstraksi Fitur Teks**:\n",
        "\n",
        "Keyword adalah kata-kata yang relevan yang digunakan sebagai fitur untuk representasi dokumen. Dalam model seperti Vector Space Model (VSM), keyword dipakai untuk membentuk vektor fitur dari dokumen.\n",
        "\n",
        "**Klasifikasi Dokumen**:\n",
        "\n",
        "Dalam text classification, keyword dapat digunakan sebagai indikator utama untuk mengklasifikasikan dokumen ke dalam kategori yang berbeda. Misalnya, dalam analisis sentimen, keyword tertentu bisa mengindikasikan sentimen positif atau negatif.\n",
        "\n",
        "**Peringkasan Otomatis** (Automatic Summarization):\n",
        "\n",
        " Keyword sering diidentifikasi sebagai inti dari dokumen dan digunakan dalam peringkasan teks otomatis untuk menghasilkan ringkasan yang mewakili isi utama dokumen.\n",
        "\n",
        "**Pencarian Informasi** (Information Retrieval):\n",
        "\n",
        "Dalam sistem mesin pencari (search engine), keyword yang relevan membantu mengindeks dokumen sehingga bisa dengan mudah ditemukan berdasarkan pencarian pengguna.\n",
        "\n",
        "**Analisis** **Frekuensi Kata**:\n",
        "\n",
        "Keyword sering digunakan dalam analisis teks, seperti menghitung term frequency (frekuensi kata) atau TF-IDF, untuk mengukur pentingnya kata dalam dokumen dan corpus secara keseluruhan.\n",
        "\n",
        "**Contoh** Penggunaan Keyword dalam Penambangan Data:\n",
        "\n",
        "- **Ekstraksi Keyword Otomatis**: Algoritma dapat digunakan untuk mengekstrak keyword dari dokumen teks secara otomatis berdasarkan frekuensi kemunculan, posisi, atau relasi dengan kata lain. Salah satu teknik yang umum adalah TextRank, yang menggunakan graf kata untuk menemukan keyword paling signifikan.\n",
        "\n",
        "- **Konteks Pencarian**: Saat pengguna melakukan pencarian di mesin pencari, mereka menggunakan keyword untuk menemukan informasi yang diinginkan. Mesin pencari akan menggunakan keyword tersebut untuk mencocokkannya dengan dokumen yang relevan.\n",
        "\n",
        "- **Topik Modeling**: Algoritma seperti Latent Dirichlet Allocation (LDA) digunakan untuk mengekstrak topik dari koleksi dokumen, dan keyword penting diidentifikasi untuk menggambarkan topik tersebut."
      ],
      "metadata": {
        "id": "BrmDo8KLYOY2"
      }
    },
    {
      "cell_type": "code",
      "source": [
        "import pandas as pd\n",
        "from collections import Counter"
      ],
      "metadata": {
        "id": "2KObugZVYNbm"
      },
      "execution_count": 3,
      "outputs": []
    },
    {
      "cell_type": "markdown",
      "source": [
        "1. Membaca File CSV"
      ],
      "metadata": {
        "id": "g9HJLySnZ8XZ"
      }
    },
    {
      "cell_type": "code",
      "source": [
        "df = pd.read_csv('/content/bola.csv')"
      ],
      "metadata": {
        "id": "mqm9RuxQZ8r_"
      },
      "execution_count": 5,
      "outputs": []
    },
    {
      "cell_type": "markdown",
      "source": [
        "2. ekstrak keyword"
      ],
      "metadata": {
        "id": "JP7_u_4DaHG_"
      }
    },
    {
      "cell_type": "code",
      "source": [
        "text_column = df['cleaned_text']"
      ],
      "metadata": {
        "id": "sIYy63ZbaGU1"
      },
      "execution_count": 7,
      "outputs": []
    },
    {
      "cell_type": "markdown",
      "source": [
        "3. Mengubah Values Menjadi String"
      ],
      "metadata": {
        "id": "ZL5cuO9IaWbx"
      }
    },
    {
      "cell_type": "code",
      "source": [
        "text_column = text_column.astype(str)"
      ],
      "metadata": {
        "id": "lzvffLayaSIK"
      },
      "execution_count": 8,
      "outputs": []
    },
    {
      "cell_type": "markdown",
      "source": [
        "4. Gabungkan semua teks menjadi satu string"
      ],
      "metadata": {
        "id": "VOENdXCvah8g"
      }
    },
    {
      "cell_type": "code",
      "source": [
        "all_text = ' '.join(text_column)"
      ],
      "metadata": {
        "id": "gwlQPmrwafVY"
      },
      "execution_count": 9,
      "outputs": []
    },
    {
      "cell_type": "markdown",
      "source": [
        "5. Pisahkan teks menjadi kata-kata"
      ],
      "metadata": {
        "id": "MEILAB2vanPA"
      }
    },
    {
      "cell_type": "code",
      "source": [
        "words = all_text.lower().split()"
      ],
      "metadata": {
        "id": "OSWefQDdakRr"
      },
      "execution_count": 10,
      "outputs": []
    },
    {
      "cell_type": "markdown",
      "source": [
        "6.  Hitung frekuensi setiap kata"
      ],
      "metadata": {
        "id": "e3WaEZhsasXf"
      }
    },
    {
      "cell_type": "code",
      "source": [
        "word_counts = Counter(words)"
      ],
      "metadata": {
        "id": "X5DQBhpyapKA"
      },
      "execution_count": 11,
      "outputs": []
    },
    {
      "cell_type": "markdown",
      "source": [
        "7. Urutkan kata-kata berdasarkan frekuensi"
      ],
      "metadata": {
        "id": "ishqOaUXax5o"
      }
    },
    {
      "cell_type": "code",
      "source": [
        "most_common_words = word_counts.most_common()"
      ],
      "metadata": {
        "id": "ucjM5CoKaufn"
      },
      "execution_count": 12,
      "outputs": []
    },
    {
      "cell_type": "markdown",
      "source": [
        "8. Menentukan Jumlah Keyword Yang akan diekstrak dan mengambil keyword teratas"
      ],
      "metadata": {
        "id": "ZtK21Kyxa4Fm"
      }
    },
    {
      "source": [
        "# Tentukan jumlah keyword yang ingin Anda ekstrak\n",
        "num_keywords = 10\n",
        "\n",
        "# Ambil keyword teratas\n",
        "keywords = [word for word, count in most_common_words[:num_keywords]]\n",
        "\n",
        "print(\"Keyword yang ditemukan:\")\n",
        "print(keywords)"
      ],
      "cell_type": "code",
      "metadata": {
        "colab": {
          "base_uri": "https://localhost:8080/"
        },
        "id": "vVK8qwaMYG0o",
        "outputId": "9eaa992a-5ec6-47ca-9da8-d167f1dc1ec4"
      },
      "execution_count": 13,
      "outputs": [
        {
          "output_type": "stream",
          "name": "stdout",
          "text": [
            "Keyword yang ditemukan:\n",
            "['liga', 'indonesia', 'timnas', 'australia', 'piala', '2024', 'vs', 'eropa', 'inggris', 'tim']\n"
          ]
        }
      ]
    }
  ]
}