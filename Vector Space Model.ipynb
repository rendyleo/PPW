{
  "nbformat": 4,
  "nbformat_minor": 0,
  "metadata": {
    "colab": {
      "provenance": [],
      "authorship_tag": "ABX9TyMQgAqT3T8SV/VwNHPTHA0O",
      "include_colab_link": true
    },
    "kernelspec": {
      "name": "python3",
      "display_name": "Python 3"
    },
    "language_info": {
      "name": "python"
    }
  },
  "cells": [
    {
      "cell_type": "markdown",
      "metadata": {
        "id": "view-in-github",
        "colab_type": "text"
      },
      "source": [
        "<a href=\"https://colab.research.google.com/github/rendyleo/PPW/blob/main/Vector%20Space%20Model.ipynb\" target=\"_parent\"><img src=\"https://colab.research.google.com/assets/colab-badge.svg\" alt=\"Open In Colab\"/></a>"
      ]
    },
    {
      "cell_type": "markdown",
      "source": [
        "1. **Vector Space Model (VSM)**\n",
        "\n",
        "VSM adalah model aljabar yang digunakan untuk merepresentasikan teks sebagai vektor numerik. Dalam VSM, setiap dokumen direpresentasikan sebagai vektor, dan setiap kata unik dalam kumpulan dokumen direpresentasikan sebagai dimensi dalam ruang vektor. Nilai setiap elemen dalam vektor mewakili bobot kata dalam dokumen tersebut.\n",
        "\n",
        "\n",
        "2. **Penerapan VSM dalam Kode Anda**\n",
        "\n",
        "Dalam kode yang Anda berikan, VSM diimplementasikan menggunakan TF-IDF (Term Frequency-Inverse Document Frequency).\n",
        "\n",
        "TF-IDF: TF-IDF adalah teknik untuk menghitung bobot kata dalam dokumen. TF mengukur seberapa sering suatu kata muncul dalam dokumen, sedangkan IDF mengukur seberapa penting kata tersebut dalam seluruh kumpulan dokumen.\n",
        "\n",
        "TfidfVectorizer: Kode Anda menggunakan TfidfVectorizer dari library sklearn untuk menghitung representasi TF-IDF dari teks yang sudah diproses. Hasilnya disimpan dalam variabel X_train_tfidf.\n",
        "\n",
        "Cosine Similarity: Setelah dokumen direpresentasikan sebagai vektor TF-IDF, Anda dapat menghitung kesamaan antar dokumen menggunakan cosine similarity. Kode Anda menghitung cosine similarity antara dokumen-dokumen dalam data latih menggunakan cosine_similarity dari library sklearn.\n",
        "\n",
        "**Kesimpulan**\n",
        "\n",
        "VSM, yang diimplementasikan menggunakan TF-IDF dalam kode , memungkinkan untuk merepresentasikan teks sebagai vektor numerik. Representasi ini kemudian dapat digunakan untuk menghitung kesamaan antar dokumen, yang berguna untuk berbagai tugas seperti pencarian informasi, pengelompokan dokumen, dan klasifikasi teks."
      ],
      "metadata": {
        "id": "qbYSSJAIBNYL"
      }
    },
    {
      "cell_type": "code",
      "source": [
        "import pandas as pd\n",
        "from sklearn.model_selection import train_test_split\n",
        "from sklearn.preprocessing import LabelEncoder\n",
        "from sklearn.feature_extraction.text import TfidfVectorizer\n",
        "import nltk\n",
        "import re\n",
        "from nltk.corpus import stopwords\n",
        "from nltk.stem import PorterStemmer\n",
        "\n",
        "nltk.download('stopwords')\n",
        "nltk.download('punkt')"
      ],
      "metadata": {
        "colab": {
          "base_uri": "https://localhost:8080/"
        },
        "id": "VKDY2qhzBuNV",
        "outputId": "7a24ccdc-bb5e-49d4-b002-d47aa1365f45"
      },
      "execution_count": null,
      "outputs": [
        {
          "output_type": "stream",
          "name": "stderr",
          "text": [
            "[nltk_data] Downloading package stopwords to /root/nltk_data...\n",
            "[nltk_data]   Package stopwords is already up-to-date!\n",
            "[nltk_data] Downloading package punkt to /root/nltk_data...\n",
            "[nltk_data]   Package punkt is already up-to-date!\n"
          ]
        },
        {
          "output_type": "execute_result",
          "data": {
            "text/plain": [
              "True"
            ]
          },
          "metadata": {},
          "execution_count": 19
        }
      ]
    },
    {
      "cell_type": "code",
      "source": [
        "# Load the CSV data\n",
        "data = pd.read_csv(\"/content/bola.csv\")  # Replace \"your_csv_file.csv\" with your file name"
      ],
      "metadata": {
        "id": "iNa3l_RRBv8L"
      },
      "execution_count": null,
      "outputs": []
    },
    {
      "cell_type": "markdown",
      "source": [
        "3. **Label encoding**\n",
        "\n",
        "adalah teknik untuk mengubah data kategorikal menjadi data numerik."
      ],
      "metadata": {
        "id": "F2l4CzIjDZ6Y"
      }
    },
    {
      "cell_type": "code",
      "source": [
        "# Label Encoding\n",
        "le = LabelEncoder()\n",
        "data['Link_Text_Encoded'] = le.fit_transform(data['Link_Text'])"
      ],
      "metadata": {
        "id": "c1Bo-rA0B2OR"
      },
      "execution_count": null,
      "outputs": []
    },
    {
      "cell_type": "code",
      "source": [
        "print(data['Link_Text_Encoded'])\n"
      ],
      "metadata": {
        "colab": {
          "base_uri": "https://localhost:8080/"
        },
        "id": "ApOT1Ky5B3vC",
        "outputId": "5e44d3d2-474e-47d4-e978-9259c62a30e7"
      },
      "execution_count": null,
      "outputs": [
        {
          "output_type": "stream",
          "name": "stdout",
          "text": [
            "0       47\n",
            "1       46\n",
            "2      120\n",
            "3      119\n",
            "4      138\n",
            "      ... \n",
            "291     73\n",
            "292    148\n",
            "293    133\n",
            "294    106\n",
            "295     56\n",
            "Name: Link_Text_Encoded, Length: 296, dtype: int64\n"
          ]
        }
      ]
    },
    {
      "cell_type": "markdown",
      "source": [
        "4. **Lower case**\n",
        "\n",
        "digunakan Mengubah teks menjadi huruf kecil"
      ],
      "metadata": {
        "id": "kwGLscXyCrt7"
      }
    },
    {
      "cell_type": "code",
      "source": [
        "# 2. Lower Case\n",
        "# Convert the 'cleaned_text' column to string type before applying lowercasing\n",
        "data['cleaned_text'] = data['cleaned_text'].astype(str).str.lower()"
      ],
      "metadata": {
        "id": "ZE659oC0B_Am"
      },
      "execution_count": null,
      "outputs": []
    },
    {
      "cell_type": "code",
      "source": [
        "# prompt: tampilkan lower case\n",
        "\n",
        "print(data['cleaned_text'])\n"
      ],
      "metadata": {
        "colab": {
          "base_uri": "https://localhost:8080/"
        },
        "id": "6MM9A99OCJ7U",
        "outputId": "6ec3435d-f00e-4220-c390-34aa3abad34f"
      },
      "execution_count": null,
      "outputs": [
        {
          "output_type": "stream",
          "name": "stdout",
          "text": [
            "0                                                bolanet\n",
            "1                                                bolacom\n",
            "2                                                merdeka\n",
            "3                                               liputan6\n",
            "4                                                 otosia\n",
            "                             ...                        \n",
            "291    gulfstream g650 jet pribadi milik cristiano ro...\n",
            "292    pesona bidadari wags gres premier league 20242...\n",
            "293    nyentrik jersey ketiga liverpool chelsea totte...\n",
            "294    kisah shin taeyong bintang iklan indonesia tar...\n",
            "295                                       bolatainment »\n",
            "Name: cleaned_text, Length: 296, dtype: object\n"
          ]
        }
      ]
    },
    {
      "cell_type": "markdown",
      "source": [
        "5. **Text cleansing**\n",
        "\n",
        "adalah proses membersihkan teks mentah dengan menghapus atau mengubah bagian-bagian tertentu agar lebih cocok untuk diproses lebih lanjut."
      ],
      "metadata": {
        "id": "73a_85RVEDZM"
      }
    },
    {
      "cell_type": "code",
      "source": [
        "# Text Cleansing\n",
        "def clean_text(text):\n",
        "  # Ensure the input is a string\n",
        "  if isinstance(text, str):\n",
        "    text = re.sub(r'[^\\w\\s]', '', text)  # Remove punctuation\n",
        "    text = re.sub(r'\\d+', '', text)  # Remove numbers\n",
        "    text = text.strip()\n",
        "  return text\n",
        "\n",
        "data['cleaned_text'] = data['cleaned_text'].apply(clean_text)"
      ],
      "metadata": {
        "id": "1-tw9QwNCQBP"
      },
      "execution_count": null,
      "outputs": []
    },
    {
      "cell_type": "code",
      "source": [
        "print(data['cleaned_text'])\n"
      ],
      "metadata": {
        "colab": {
          "base_uri": "https://localhost:8080/"
        },
        "id": "FPrSJTOMCVpv",
        "outputId": "5acbb9c6-c1e9-4d90-fdf1-177456098a0e"
      },
      "execution_count": null,
      "outputs": [
        {
          "output_type": "stream",
          "name": "stdout",
          "text": [
            "0                                                bolanet\n",
            "1                                                bolacom\n",
            "2                                                merdeka\n",
            "3                                                liputan\n",
            "4                                                 otosia\n",
            "                             ...                        \n",
            "291    gulfstream g jet pribadi milik cristiano ronal...\n",
            "292     pesona bidadari wags gres premier league  aduhai\n",
            "293    nyentrik jersey ketiga liverpool chelsea totte...\n",
            "294    kisah shin taeyong bintang iklan indonesia tar...\n",
            "295                                         bolatainment\n",
            "Name: cleaned_text, Length: 296, dtype: object\n"
          ]
        }
      ]
    },
    {
      "cell_type": "markdown",
      "source": [
        "6. **Tokenisasi** (memecah teks menjadi kata-kata)"
      ],
      "metadata": {
        "id": "-njqOS0WEd40"
      }
    },
    {
      "cell_type": "code",
      "source": [
        "# Tokenization\n",
        "data['tokens'] = data['cleaned_text'].apply(nltk.word_tokenize)"
      ],
      "metadata": {
        "id": "mYmGnYyMCbHQ"
      },
      "execution_count": null,
      "outputs": []
    },
    {
      "cell_type": "markdown",
      "source": [
        "7. **Stopword** **Removal**\n",
        "\n",
        "Menghapus stop words (kata-kata umum yang tidak penting)."
      ],
      "metadata": {
        "id": "3eIm21-XEo1l"
      }
    },
    {
      "cell_type": "code",
      "source": [
        "#  Stopword Removal\n",
        "stop_words = set(stopwords.words('english'))\n",
        "data['tokens_without_stopwords'] = data['tokens'].apply(lambda x: [word for word in x if word not in stop_words])\n"
      ],
      "metadata": {
        "id": "c9mj_UbWCiOo"
      },
      "execution_count": null,
      "outputs": []
    },
    {
      "cell_type": "markdown",
      "source": [
        "8. Stemming\n",
        "\n",
        "Adalah Menghapus imbuhan atau akhiran"
      ],
      "metadata": {
        "id": "nbiGBufyE1v7"
      }
    },
    {
      "cell_type": "code",
      "source": [
        "# Stemming\n",
        "stemmer = PorterStemmer()\n",
        "data['stemmed_tokens'] = data['tokens_without_stopwords'].apply(lambda x: [stemmer.stem(word) for word in x])\n"
      ],
      "metadata": {
        "id": "ne_sq9tTCmuL"
      },
      "execution_count": null,
      "outputs": []
    },
    {
      "cell_type": "code",
      "source": [
        "# Join tokens back into a string\n",
        "data['processed_text'] = data['stemmed_tokens'].apply(lambda x: ' '.join(x))"
      ],
      "metadata": {
        "id": "c4Wlawf6Crjp"
      },
      "execution_count": null,
      "outputs": []
    },
    {
      "cell_type": "markdown",
      "source": [
        "9. Data Akan Di split atau dipisahkan menjadi data training dan data testing"
      ],
      "metadata": {
        "id": "rvC5dTHQFIJY"
      }
    },
    {
      "cell_type": "code",
      "source": [
        "# Split Data into Train and Test\n",
        "X = data['processed_text']\n",
        "y = data['Link_URL']  # Assuming Link_URL is your target variable\n",
        "\n",
        "X_train, X_test, y_train, y_test = train_test_split(X, y, test_size=0.2, random_state=42)"
      ],
      "metadata": {
        "id": "_6NpK6O4CwBu"
      },
      "execution_count": null,
      "outputs": []
    },
    {
      "cell_type": "markdown",
      "source": [
        "10. Data Training akan ditfidf"
      ],
      "metadata": {
        "id": "uYJBNtEyFUeJ"
      }
    },
    {
      "cell_type": "code",
      "source": [
        "# 9. TFIDF\n",
        "\n",
        "from sklearn.feature_extraction.text import TfidfVectorizer\n",
        "\n",
        "# Assuming X_train contains your training text data\n",
        "tfidf_vectorizer = TfidfVectorizer()\n",
        "X_train_tfidf = tfidf_vectorizer.fit_transform(X_train)\n",
        "\n",
        "# Now X_train_tfidf contains the TF-IDF representation of your training data\n"
      ],
      "metadata": {
        "id": "RpJhzQRcC11Y"
      },
      "execution_count": null,
      "outputs": []
    },
    {
      "cell_type": "code",
      "source": [
        "print(\"Jumlah fitur TF-IDF:\", len(tfidf_vectorizer.get_feature_names_out()))\n"
      ],
      "metadata": {
        "colab": {
          "base_uri": "https://localhost:8080/"
        },
        "id": "4TgUz09yDaOs",
        "outputId": "1e78a6f4-a386-4a1c-adde-a6ec83f0fc3c"
      },
      "execution_count": null,
      "outputs": [
        {
          "output_type": "stream",
          "name": "stdout",
          "text": [
            "Jumlah fitur TF-IDF: 470\n"
          ]
        }
      ]
    },
    {
      "cell_type": "code",
      "source": [
        "# prompt: tampilkan data tfidf\n",
        "\n",
        "print(X_train_tfidf)\n"
      ],
      "metadata": {
        "colab": {
          "base_uri": "https://localhost:8080/"
        },
        "id": "XBYxZWMuC78h",
        "outputId": "097a0994-794d-4e6b-c867-4f9464b4d4c0"
      },
      "execution_count": null,
      "outputs": [
        {
          "output_type": "stream",
          "name": "stdout",
          "text": [
            "  (0, 144)\t0.5399441133495791\n",
            "  (0, 410)\t0.43722581401424643\n",
            "  (0, 276)\t0.5399441133495791\n",
            "  (0, 19)\t0.4751360820626585\n",
            "  (1, 122)\t1.0\n",
            "  (2, 436)\t0.7071067811865476\n",
            "  (2, 298)\t0.7071067811865476\n",
            "  (3, 436)\t0.7071067811865476\n",
            "  (3, 298)\t0.7071067811865476\n",
            "  (4, 245)\t0.6116553358385446\n",
            "  (4, 176)\t0.7911243582018171\n",
            "  (5, 354)\t0.4703411141585068\n",
            "  (5, 151)\t0.4138873425768273\n",
            "  (5, 291)\t0.4703411141585068\n",
            "  (5, 208)\t0.4703411141585068\n",
            "  (5, 437)\t0.2445260278317886\n",
            "  (5, 181)\t0.32441023159558746\n",
            "  (6, 161)\t0.4556474608628712\n",
            "  (6, 244)\t0.40547050980496835\n",
            "  (6, 448)\t0.48144196055506866\n",
            "  (6, 299)\t0.48144196055506866\n",
            "  (6, 243)\t0.40547050980496835\n",
            "  (7, 245)\t0.5828624248034108\n",
            "  (7, 181)\t0.8125708546042545\n",
            "  (8, 324)\t0.3493959112156099\n",
            "  :\t:\n",
            "  (227, 236)\t0.3110122955208984\n",
            "  (227, 74)\t0.3110122955208984\n",
            "  (227, 468)\t0.33449788239896255\n",
            "  (227, 382)\t0.33449788239896255\n",
            "  (227, 126)\t0.33449788239896255\n",
            "  (227, 341)\t0.33449788239896255\n",
            "  (227, 277)\t0.33449788239896255\n",
            "  (227, 360)\t0.33449788239896255\n",
            "  (228, 309)\t0.7071067811865476\n",
            "  (228, 342)\t0.7071067811865476\n",
            "  (229, 65)\t1.0\n",
            "  (230, 410)\t0.8533303080997967\n",
            "  (230, 245)\t0.5213706793427361\n",
            "  (231, 245)\t0.5828624248034108\n",
            "  (231, 181)\t0.8125708546042545\n",
            "  (232, 297)\t1.0\n",
            "  (233, 62)\t0.6606163467535376\n",
            "  (233, 179)\t0.7507236791270206\n",
            "  (234, 71)\t1.0\n",
            "  (235, 250)\t0.3305174789740357\n",
            "  (235, 78)\t0.42208013364588676\n",
            "  (235, 329)\t0.42208013364588676\n",
            "  (235, 463)\t0.42208013364588676\n",
            "  (235, 454)\t0.42208013364588676\n",
            "  (235, 107)\t0.42208013364588676\n"
          ]
        }
      ]
    },
    {
      "source": [
        "from sklearn.metrics.pairwise import cosine_similarity\n",
        "import pandas as pd # Import pandas\n",
        "\n",
        "# Assuming X_train_tfidf contains your TF-IDF matrix\n",
        "cosine_sim = cosine_similarity(X_train_tfidf)\n",
        "\n",
        "# Menampilkan hasil cosine similarity\n",
        "cosine_sim_df = pd.DataFrame(cosine_sim)\n",
        "\n",
        "# Menampilkan beberapa baris dari matriks cosine similarity\n",
        "cosine_sim_df.head()"
      ],
      "cell_type": "code",
      "metadata": {
        "colab": {
          "base_uri": "https://localhost:8080/",
          "height": 255
        },
        "id": "LDeo94StFEZ7",
        "outputId": "c1a381c5-32c1-474f-ad4e-af6a6b7ad4fb"
      },
      "execution_count": null,
      "outputs": [
        {
          "output_type": "execute_result",
          "data": {
            "text/plain": [
              "   0    1    2    3    4    5    6         7    8    9    ...  226  227  228  \\\n",
              "0  1.0  0.0  0.0  0.0  0.0  0.0  0.0  0.000000  0.0  0.0  ...  0.0  0.0  0.0   \n",
              "1  0.0  1.0  0.0  0.0  0.0  0.0  0.0  0.000000  0.0  0.0  ...  0.0  0.0  0.0   \n",
              "2  0.0  0.0  1.0  1.0  0.0  0.0  0.0  0.000000  0.0  0.0  ...  0.0  0.0  0.0   \n",
              "3  0.0  0.0  1.0  1.0  0.0  0.0  0.0  0.000000  0.0  0.0  ...  0.0  0.0  0.0   \n",
              "4  0.0  0.0  0.0  0.0  1.0  0.0  0.0  0.356511  0.0  0.0  ...  0.0  0.0  0.0   \n",
              "\n",
              "   229       230       231  232  233  234  235  \n",
              "0  0.0  0.373098  0.000000  0.0  0.0  0.0  0.0  \n",
              "1  0.0  0.000000  0.000000  0.0  0.0  0.0  0.0  \n",
              "2  0.0  0.000000  0.000000  0.0  0.0  0.0  0.0  \n",
              "3  0.0  0.000000  0.000000  0.0  0.0  0.0  0.0  \n",
              "4  0.0  0.318899  0.356511  0.0  0.0  0.0  0.0  \n",
              "\n",
              "[5 rows x 236 columns]"
            ],
            "text/html": [
              "\n",
              "  <div id=\"df-26b7d2d0-cc05-4194-b19e-b35a106e3d6f\" class=\"colab-df-container\">\n",
              "    <div>\n",
              "<style scoped>\n",
              "    .dataframe tbody tr th:only-of-type {\n",
              "        vertical-align: middle;\n",
              "    }\n",
              "\n",
              "    .dataframe tbody tr th {\n",
              "        vertical-align: top;\n",
              "    }\n",
              "\n",
              "    .dataframe thead th {\n",
              "        text-align: right;\n",
              "    }\n",
              "</style>\n",
              "<table border=\"1\" class=\"dataframe\">\n",
              "  <thead>\n",
              "    <tr style=\"text-align: right;\">\n",
              "      <th></th>\n",
              "      <th>0</th>\n",
              "      <th>1</th>\n",
              "      <th>2</th>\n",
              "      <th>3</th>\n",
              "      <th>4</th>\n",
              "      <th>5</th>\n",
              "      <th>6</th>\n",
              "      <th>7</th>\n",
              "      <th>8</th>\n",
              "      <th>9</th>\n",
              "      <th>...</th>\n",
              "      <th>226</th>\n",
              "      <th>227</th>\n",
              "      <th>228</th>\n",
              "      <th>229</th>\n",
              "      <th>230</th>\n",
              "      <th>231</th>\n",
              "      <th>232</th>\n",
              "      <th>233</th>\n",
              "      <th>234</th>\n",
              "      <th>235</th>\n",
              "    </tr>\n",
              "  </thead>\n",
              "  <tbody>\n",
              "    <tr>\n",
              "      <th>0</th>\n",
              "      <td>1.0</td>\n",
              "      <td>0.0</td>\n",
              "      <td>0.0</td>\n",
              "      <td>0.0</td>\n",
              "      <td>0.0</td>\n",
              "      <td>0.0</td>\n",
              "      <td>0.0</td>\n",
              "      <td>0.000000</td>\n",
              "      <td>0.0</td>\n",
              "      <td>0.0</td>\n",
              "      <td>...</td>\n",
              "      <td>0.0</td>\n",
              "      <td>0.0</td>\n",
              "      <td>0.0</td>\n",
              "      <td>0.0</td>\n",
              "      <td>0.373098</td>\n",
              "      <td>0.000000</td>\n",
              "      <td>0.0</td>\n",
              "      <td>0.0</td>\n",
              "      <td>0.0</td>\n",
              "      <td>0.0</td>\n",
              "    </tr>\n",
              "    <tr>\n",
              "      <th>1</th>\n",
              "      <td>0.0</td>\n",
              "      <td>1.0</td>\n",
              "      <td>0.0</td>\n",
              "      <td>0.0</td>\n",
              "      <td>0.0</td>\n",
              "      <td>0.0</td>\n",
              "      <td>0.0</td>\n",
              "      <td>0.000000</td>\n",
              "      <td>0.0</td>\n",
              "      <td>0.0</td>\n",
              "      <td>...</td>\n",
              "      <td>0.0</td>\n",
              "      <td>0.0</td>\n",
              "      <td>0.0</td>\n",
              "      <td>0.0</td>\n",
              "      <td>0.000000</td>\n",
              "      <td>0.000000</td>\n",
              "      <td>0.0</td>\n",
              "      <td>0.0</td>\n",
              "      <td>0.0</td>\n",
              "      <td>0.0</td>\n",
              "    </tr>\n",
              "    <tr>\n",
              "      <th>2</th>\n",
              "      <td>0.0</td>\n",
              "      <td>0.0</td>\n",
              "      <td>1.0</td>\n",
              "      <td>1.0</td>\n",
              "      <td>0.0</td>\n",
              "      <td>0.0</td>\n",
              "      <td>0.0</td>\n",
              "      <td>0.000000</td>\n",
              "      <td>0.0</td>\n",
              "      <td>0.0</td>\n",
              "      <td>...</td>\n",
              "      <td>0.0</td>\n",
              "      <td>0.0</td>\n",
              "      <td>0.0</td>\n",
              "      <td>0.0</td>\n",
              "      <td>0.000000</td>\n",
              "      <td>0.000000</td>\n",
              "      <td>0.0</td>\n",
              "      <td>0.0</td>\n",
              "      <td>0.0</td>\n",
              "      <td>0.0</td>\n",
              "    </tr>\n",
              "    <tr>\n",
              "      <th>3</th>\n",
              "      <td>0.0</td>\n",
              "      <td>0.0</td>\n",
              "      <td>1.0</td>\n",
              "      <td>1.0</td>\n",
              "      <td>0.0</td>\n",
              "      <td>0.0</td>\n",
              "      <td>0.0</td>\n",
              "      <td>0.000000</td>\n",
              "      <td>0.0</td>\n",
              "      <td>0.0</td>\n",
              "      <td>...</td>\n",
              "      <td>0.0</td>\n",
              "      <td>0.0</td>\n",
              "      <td>0.0</td>\n",
              "      <td>0.0</td>\n",
              "      <td>0.000000</td>\n",
              "      <td>0.000000</td>\n",
              "      <td>0.0</td>\n",
              "      <td>0.0</td>\n",
              "      <td>0.0</td>\n",
              "      <td>0.0</td>\n",
              "    </tr>\n",
              "    <tr>\n",
              "      <th>4</th>\n",
              "      <td>0.0</td>\n",
              "      <td>0.0</td>\n",
              "      <td>0.0</td>\n",
              "      <td>0.0</td>\n",
              "      <td>1.0</td>\n",
              "      <td>0.0</td>\n",
              "      <td>0.0</td>\n",
              "      <td>0.356511</td>\n",
              "      <td>0.0</td>\n",
              "      <td>0.0</td>\n",
              "      <td>...</td>\n",
              "      <td>0.0</td>\n",
              "      <td>0.0</td>\n",
              "      <td>0.0</td>\n",
              "      <td>0.0</td>\n",
              "      <td>0.318899</td>\n",
              "      <td>0.356511</td>\n",
              "      <td>0.0</td>\n",
              "      <td>0.0</td>\n",
              "      <td>0.0</td>\n",
              "      <td>0.0</td>\n",
              "    </tr>\n",
              "  </tbody>\n",
              "</table>\n",
              "<p>5 rows × 236 columns</p>\n",
              "</div>\n",
              "    <div class=\"colab-df-buttons\">\n",
              "\n",
              "  <div class=\"colab-df-container\">\n",
              "    <button class=\"colab-df-convert\" onclick=\"convertToInteractive('df-26b7d2d0-cc05-4194-b19e-b35a106e3d6f')\"\n",
              "            title=\"Convert this dataframe to an interactive table.\"\n",
              "            style=\"display:none;\">\n",
              "\n",
              "  <svg xmlns=\"http://www.w3.org/2000/svg\" height=\"24px\" viewBox=\"0 -960 960 960\">\n",
              "    <path d=\"M120-120v-720h720v720H120Zm60-500h600v-160H180v160Zm220 220h160v-160H400v160Zm0 220h160v-160H400v160ZM180-400h160v-160H180v160Zm440 0h160v-160H620v160ZM180-180h160v-160H180v160Zm440 0h160v-160H620v160Z\"/>\n",
              "  </svg>\n",
              "    </button>\n",
              "\n",
              "  <style>\n",
              "    .colab-df-container {\n",
              "      display:flex;\n",
              "      gap: 12px;\n",
              "    }\n",
              "\n",
              "    .colab-df-convert {\n",
              "      background-color: #E8F0FE;\n",
              "      border: none;\n",
              "      border-radius: 50%;\n",
              "      cursor: pointer;\n",
              "      display: none;\n",
              "      fill: #1967D2;\n",
              "      height: 32px;\n",
              "      padding: 0 0 0 0;\n",
              "      width: 32px;\n",
              "    }\n",
              "\n",
              "    .colab-df-convert:hover {\n",
              "      background-color: #E2EBFA;\n",
              "      box-shadow: 0px 1px 2px rgba(60, 64, 67, 0.3), 0px 1px 3px 1px rgba(60, 64, 67, 0.15);\n",
              "      fill: #174EA6;\n",
              "    }\n",
              "\n",
              "    .colab-df-buttons div {\n",
              "      margin-bottom: 4px;\n",
              "    }\n",
              "\n",
              "    [theme=dark] .colab-df-convert {\n",
              "      background-color: #3B4455;\n",
              "      fill: #D2E3FC;\n",
              "    }\n",
              "\n",
              "    [theme=dark] .colab-df-convert:hover {\n",
              "      background-color: #434B5C;\n",
              "      box-shadow: 0px 1px 3px 1px rgba(0, 0, 0, 0.15);\n",
              "      filter: drop-shadow(0px 1px 2px rgba(0, 0, 0, 0.3));\n",
              "      fill: #FFFFFF;\n",
              "    }\n",
              "  </style>\n",
              "\n",
              "    <script>\n",
              "      const buttonEl =\n",
              "        document.querySelector('#df-26b7d2d0-cc05-4194-b19e-b35a106e3d6f button.colab-df-convert');\n",
              "      buttonEl.style.display =\n",
              "        google.colab.kernel.accessAllowed ? 'block' : 'none';\n",
              "\n",
              "      async function convertToInteractive(key) {\n",
              "        const element = document.querySelector('#df-26b7d2d0-cc05-4194-b19e-b35a106e3d6f');\n",
              "        const dataTable =\n",
              "          await google.colab.kernel.invokeFunction('convertToInteractive',\n",
              "                                                    [key], {});\n",
              "        if (!dataTable) return;\n",
              "\n",
              "        const docLinkHtml = 'Like what you see? Visit the ' +\n",
              "          '<a target=\"_blank\" href=https://colab.research.google.com/notebooks/data_table.ipynb>data table notebook</a>'\n",
              "          + ' to learn more about interactive tables.';\n",
              "        element.innerHTML = '';\n",
              "        dataTable['output_type'] = 'display_data';\n",
              "        await google.colab.output.renderOutput(dataTable, element);\n",
              "        const docLink = document.createElement('div');\n",
              "        docLink.innerHTML = docLinkHtml;\n",
              "        element.appendChild(docLink);\n",
              "      }\n",
              "    </script>\n",
              "  </div>\n",
              "\n",
              "\n",
              "<div id=\"df-c787b66f-057b-4d4c-9cb5-53daf2e3fdbf\">\n",
              "  <button class=\"colab-df-quickchart\" onclick=\"quickchart('df-c787b66f-057b-4d4c-9cb5-53daf2e3fdbf')\"\n",
              "            title=\"Suggest charts\"\n",
              "            style=\"display:none;\">\n",
              "\n",
              "<svg xmlns=\"http://www.w3.org/2000/svg\" height=\"24px\"viewBox=\"0 0 24 24\"\n",
              "     width=\"24px\">\n",
              "    <g>\n",
              "        <path d=\"M19 3H5c-1.1 0-2 .9-2 2v14c0 1.1.9 2 2 2h14c1.1 0 2-.9 2-2V5c0-1.1-.9-2-2-2zM9 17H7v-7h2v7zm4 0h-2V7h2v10zm4 0h-2v-4h2v4z\"/>\n",
              "    </g>\n",
              "</svg>\n",
              "  </button>\n",
              "\n",
              "<style>\n",
              "  .colab-df-quickchart {\n",
              "      --bg-color: #E8F0FE;\n",
              "      --fill-color: #1967D2;\n",
              "      --hover-bg-color: #E2EBFA;\n",
              "      --hover-fill-color: #174EA6;\n",
              "      --disabled-fill-color: #AAA;\n",
              "      --disabled-bg-color: #DDD;\n",
              "  }\n",
              "\n",
              "  [theme=dark] .colab-df-quickchart {\n",
              "      --bg-color: #3B4455;\n",
              "      --fill-color: #D2E3FC;\n",
              "      --hover-bg-color: #434B5C;\n",
              "      --hover-fill-color: #FFFFFF;\n",
              "      --disabled-bg-color: #3B4455;\n",
              "      --disabled-fill-color: #666;\n",
              "  }\n",
              "\n",
              "  .colab-df-quickchart {\n",
              "    background-color: var(--bg-color);\n",
              "    border: none;\n",
              "    border-radius: 50%;\n",
              "    cursor: pointer;\n",
              "    display: none;\n",
              "    fill: var(--fill-color);\n",
              "    height: 32px;\n",
              "    padding: 0;\n",
              "    width: 32px;\n",
              "  }\n",
              "\n",
              "  .colab-df-quickchart:hover {\n",
              "    background-color: var(--hover-bg-color);\n",
              "    box-shadow: 0 1px 2px rgba(60, 64, 67, 0.3), 0 1px 3px 1px rgba(60, 64, 67, 0.15);\n",
              "    fill: var(--button-hover-fill-color);\n",
              "  }\n",
              "\n",
              "  .colab-df-quickchart-complete:disabled,\n",
              "  .colab-df-quickchart-complete:disabled:hover {\n",
              "    background-color: var(--disabled-bg-color);\n",
              "    fill: var(--disabled-fill-color);\n",
              "    box-shadow: none;\n",
              "  }\n",
              "\n",
              "  .colab-df-spinner {\n",
              "    border: 2px solid var(--fill-color);\n",
              "    border-color: transparent;\n",
              "    border-bottom-color: var(--fill-color);\n",
              "    animation:\n",
              "      spin 1s steps(1) infinite;\n",
              "  }\n",
              "\n",
              "  @keyframes spin {\n",
              "    0% {\n",
              "      border-color: transparent;\n",
              "      border-bottom-color: var(--fill-color);\n",
              "      border-left-color: var(--fill-color);\n",
              "    }\n",
              "    20% {\n",
              "      border-color: transparent;\n",
              "      border-left-color: var(--fill-color);\n",
              "      border-top-color: var(--fill-color);\n",
              "    }\n",
              "    30% {\n",
              "      border-color: transparent;\n",
              "      border-left-color: var(--fill-color);\n",
              "      border-top-color: var(--fill-color);\n",
              "      border-right-color: var(--fill-color);\n",
              "    }\n",
              "    40% {\n",
              "      border-color: transparent;\n",
              "      border-right-color: var(--fill-color);\n",
              "      border-top-color: var(--fill-color);\n",
              "    }\n",
              "    60% {\n",
              "      border-color: transparent;\n",
              "      border-right-color: var(--fill-color);\n",
              "    }\n",
              "    80% {\n",
              "      border-color: transparent;\n",
              "      border-right-color: var(--fill-color);\n",
              "      border-bottom-color: var(--fill-color);\n",
              "    }\n",
              "    90% {\n",
              "      border-color: transparent;\n",
              "      border-bottom-color: var(--fill-color);\n",
              "    }\n",
              "  }\n",
              "</style>\n",
              "\n",
              "  <script>\n",
              "    async function quickchart(key) {\n",
              "      const quickchartButtonEl =\n",
              "        document.querySelector('#' + key + ' button');\n",
              "      quickchartButtonEl.disabled = true;  // To prevent multiple clicks.\n",
              "      quickchartButtonEl.classList.add('colab-df-spinner');\n",
              "      try {\n",
              "        const charts = await google.colab.kernel.invokeFunction(\n",
              "            'suggestCharts', [key], {});\n",
              "      } catch (error) {\n",
              "        console.error('Error during call to suggestCharts:', error);\n",
              "      }\n",
              "      quickchartButtonEl.classList.remove('colab-df-spinner');\n",
              "      quickchartButtonEl.classList.add('colab-df-quickchart-complete');\n",
              "    }\n",
              "    (() => {\n",
              "      let quickchartButtonEl =\n",
              "        document.querySelector('#df-c787b66f-057b-4d4c-9cb5-53daf2e3fdbf button');\n",
              "      quickchartButtonEl.style.display =\n",
              "        google.colab.kernel.accessAllowed ? 'block' : 'none';\n",
              "    })();\n",
              "  </script>\n",
              "</div>\n",
              "\n",
              "    </div>\n",
              "  </div>\n"
            ],
            "application/vnd.google.colaboratory.intrinsic+json": {
              "type": "dataframe",
              "variable_name": "cosine_sim_df"
            }
          },
          "metadata": {},
          "execution_count": 40
        }
      ]
    },
    {
      "cell_type": "code",
      "source": [
        "temp_counts = data['Link_URL'].value_counts()\n",
        "print(temp_counts)\n"
      ],
      "metadata": {
        "colab": {
          "base_uri": "https://localhost:8080/"
        },
        "id": "kiEfColYJ1PD",
        "outputId": "adb8956e-a356-4780-90d0-60aec78b2dee"
      },
      "execution_count": null,
      "outputs": [
        {
          "output_type": "stream",
          "name": "stdout",
          "text": [
            "Link_URL\n",
            "https://www.bola.net/tim_nasional/                                                                                                     23\n",
            "https://www.bola.net/piala_eropa/                                                                                                      17\n",
            "https://www.bola.net/inggris/                                                                                                          17\n",
            "https://www.bola.net/otomotif/                                                                                                          7\n",
            "https://www.bola.net/open-play/                                                                                                         6\n",
            "                                                                                                                                       ..\n",
            "https://www.fimela.com/                                                                                                                 1\n",
            "#                                                                                                                                       1\n",
            "https://www.dream.co.id/                                                                                                                1\n",
            "https://www.brilio.net/                                                                                                                 1\n",
            "https://www.bola.net/bolatainment/kisah-shin-tae-yong-jadi-bintang-iklan-di-indonesia-termasuk-tarian-viral-tanpa-skrip-87911d.html     1\n",
            "Name: count, Length: 165, dtype: int64\n"
          ]
        }
      ]
    },
    {
      "cell_type": "code",
      "source": [
        "# matrix similaritas\n",
        "\n",
        "import pandas as pd\n",
        "from sklearn.metrics.pairwise import cosine_similarity\n",
        "\n",
        "# Assuming X_train_tfidf contains your TF-IDF matrix\n",
        "cosine_sim = cosine_similarity(X_train_tfidf)\n",
        "\n",
        "# Convert the cosine similarity matrix to a Pandas DataFrame for better readability\n",
        "cosine_sim_df = pd.DataFrame(cosine_sim, index=X_train.index, columns=X_train.index)\n",
        "\n",
        "# Print or use the cosine similarity matrix\n",
        "print(cosine_sim_df)\n"
      ],
      "metadata": {
        "id": "eVFAP-V7LZOl",
        "outputId": "a0dbc89c-1925-4d46-e1aa-53745ae73e76",
        "colab": {
          "base_uri": "https://localhost:8080/"
        }
      },
      "execution_count": null,
      "outputs": [
        {
          "output_type": "stream",
          "name": "stdout",
          "text": [
            "     63   17   215  219       183       114  76        284  66   178  ...  \\\n",
            "63   1.0  0.0  0.0  0.0  0.000000  0.000000  0.0  0.000000  0.0  0.0  ...   \n",
            "17   0.0  1.0  0.0  0.0  0.000000  0.000000  0.0  0.000000  0.0  0.0  ...   \n",
            "215  0.0  0.0  1.0  1.0  0.000000  0.000000  0.0  0.000000  0.0  0.0  ...   \n",
            "219  0.0  0.0  1.0  1.0  0.000000  0.000000  0.0  0.000000  0.0  0.0  ...   \n",
            "183  0.0  0.0  0.0  0.0  1.000000  0.000000  0.0  0.356511  0.0  0.0  ...   \n",
            "..   ...  ...  ...  ...       ...       ...  ...       ...  ...  ...  ...   \n",
            "188  0.0  0.0  0.0  0.0  0.356511  0.263606  0.0  1.000000  0.0  0.0  ...   \n",
            "71   0.0  0.0  0.0  0.0  0.000000  0.000000  0.0  0.000000  0.0  0.0  ...   \n",
            "106  0.0  0.0  0.0  0.0  0.000000  0.000000  0.0  0.000000  0.0  0.0  ...   \n",
            "270  0.0  0.0  0.0  0.0  0.000000  0.000000  0.0  0.000000  0.0  0.0  ...   \n",
            "102  0.0  0.0  0.0  0.0  0.000000  0.000000  0.0  0.000000  0.0  0.0  ...   \n",
            "\n",
            "     87   214  121  295       20        188  71   106  270  102  \n",
            "63   0.0  0.0  0.0  0.0  0.373098  0.000000  0.0  0.0  0.0  0.0  \n",
            "17   0.0  0.0  0.0  0.0  0.000000  0.000000  0.0  0.0  0.0  0.0  \n",
            "215  0.0  0.0  0.0  0.0  0.000000  0.000000  0.0  0.0  0.0  0.0  \n",
            "219  0.0  0.0  0.0  0.0  0.000000  0.000000  0.0  0.0  0.0  0.0  \n",
            "183  0.0  0.0  0.0  0.0  0.318899  0.356511  0.0  0.0  0.0  0.0  \n",
            "..   ...  ...  ...  ...       ...       ...  ...  ...  ...  ...  \n",
            "188  0.0  0.0  0.0  0.0  0.303887  1.000000  0.0  0.0  0.0  0.0  \n",
            "71   0.0  0.0  0.0  0.0  0.000000  0.000000  1.0  0.0  0.0  0.0  \n",
            "106  0.0  0.0  0.0  0.0  0.000000  0.000000  0.0  1.0  0.0  0.0  \n",
            "270  0.0  0.0  0.0  0.0  0.000000  0.000000  0.0  0.0  1.0  0.0  \n",
            "102  0.0  0.0  0.0  0.0  0.000000  0.000000  0.0  0.0  0.0  1.0  \n",
            "\n",
            "[236 rows x 236 columns]\n"
          ]
        }
      ]
    }
  ]
}